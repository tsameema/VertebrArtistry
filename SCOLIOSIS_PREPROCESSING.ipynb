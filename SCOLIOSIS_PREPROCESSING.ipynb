{
  "cells": [
    {
      "cell_type": "code",
      "execution_count": null,
      "metadata": {
        "colab": {
          "base_uri": "https://localhost:8080/"
        },
        "id": "FSOEfN5hhGhq",
        "outputId": "b1818f27-dee3-4332-9a34-603ad1e38009"
      },
      "outputs": [
        {
          "name": "stdout",
          "output_type": "stream",
          "text": [
            "Mounted at /content/drive\n"
          ]
        }
      ],
      "source": [
        "from google.colab import drive\n",
        "drive.mount('/content/drive')"
      ]
    },
    {
      "cell_type": "code",
      "execution_count": null,
      "metadata": {
        "id": "pafL7Li0jyXW"
      },
      "outputs": [],
      "source": [
        "import numpy as np\n",
        "import pandas as pd\n",
        "import cv2, os, tensorflow, keras\n",
        "import warnings\n",
        "warnings.filterwarnings(\"ignore\")\n",
        "from tensorflow.keras.preprocessing import image\n",
        "import matplotlib.pyplot as plt\n",
        "from matplotlib import image\n",
        "from PIL import Image\n",
        "from skimage import color\n",
        "from google.colab.patches import cv2_imshow\n",
        "import albumentations as A\n",
        "from scipy.io import savemat\n",
        "import scipy.io as sio\n",
        "from numpy import random\n",
        "from tensorflow.keras.models import Sequential\n",
        "from tensorflow.keras.layers import Conv2D, Dropout, Dense, Flatten, BatchNormalization, MaxPooling2D, Activation, Reshape\n",
        "from sklearn.metrics import mean_squared_error\n",
        "#image.ImageDataGenerator\n",
        "import pickle"
      ]
    },
    {
      "cell_type": "markdown",
      "metadata": {
        "id": "WUyBgH2GbIrp"
      },
      "source": [
        "## **FOLDERS OF AUGMENTED IMAGES AND LABELS DATA**"
      ]
    },
    {
      "cell_type": "code",
      "execution_count": null,
      "metadata": {
        "id": "R_-vUFjVbfQM"
      },
      "outputs": [],
      "source": [
        "keyPointFiles='/content/drive/MyDrive/Colab Notebooks/scoliosis xray Single View/boostnet_labeldata/SmallAugmentFiles/ACombFile/KEYPOINT/'\n",
        "trainImagesFiles='/content/drive/MyDrive/Colab Notebooks/scoliosis xray Single View/boostnet_labeldata/SmallAugmentFiles/ACombFile/IMG/'"
      ]
    },
    {
      "cell_type": "markdown",
      "metadata": {
        "id": "N_HYDtVabQ-S"
      },
      "source": [
        "## **IMAGES PREPROCESSING**"
      ]
    },
    {
      "cell_type": "code",
      "execution_count": null,
      "metadata": {
        "id": "_G12DGO9Guwi"
      },
      "outputs": [],
      "source": [
        "def imageProcessing(imgFile):\n",
        "  imgLoad=cv2.imread(imgFile)\n",
        "  #converting rgb to gray\n",
        "  imgGrey=cv2.cvtColor(imgLoad, cv2.COLOR_BGR2GRAY)\n",
        "  #equalizing intensities\n",
        "  imgHist=cv2.equalizeHist(imgGrey)\n",
        "  #removing noise\n",
        "  imgNoiseLess= cv2.fastNlMeansDenoising(imgHist, None, 10, 7, 21) \n",
        "  #Normalizing\n",
        "  imgNorm=(imgNoiseLess - np.min(imgNoiseLess)) / (np.max(imgNoiseLess) - np.min(imgNoiseLess))\n",
        "  return imgNorm\n",
        "\n",
        "def KeyPointProcess(kpFile):\n",
        "  test = sio.loadmat(kpFile)\n",
        "  keyPoint=list(test.values())[3]\n",
        "  return keyPoint"
      ]
    },
    {
      "cell_type": "code",
      "execution_count": null,
      "metadata": {
        "colab": {
          "base_uri": "https://localhost:8080/"
        },
        "id": "64ildect3fEw",
        "outputId": "b861ff76-5414-4370-d03a-197777f0ea09"
      },
      "outputs": [
        {
          "name": "stdout",
          "output_type": "stream",
          "text": [
            "TOTAL IMAGE FILES FOR TRAINING:2880\n"
          ]
        }
      ],
      "source": [
        "imgList=os.listdir(trainImagesFiles)\n",
        "print(f'TOTAL IMAGE FILES FOR TRAINING:{len(imgList)}')"
      ]
    },
    {
      "cell_type": "code",
      "execution_count": null,
      "metadata": {
        "id": "qfdDBTiogx42"
      },
      "outputs": [],
      "source": [
        "#image Preprocessing and Histogram Equalization\n",
        "imgList=os.listdir(trainImagesFiles)\n",
        "imgProcess=[]\n",
        "kptProcess=[]\n",
        "\n",
        "for img in imgList:\n",
        "  imgFile=trainImagesFiles+img\n",
        "  kpFile=keyPointFiles+img+'.mat'\n",
        "  #Extracting the keypoints\n",
        "  keyPoint=np.asarray(KeyPointProcess(kpFile))\n",
        "  kptProcess.append(keyPoint)\n",
        "  #Extracting the images\n",
        "  imgArray=imageProcessing(imgFile)\n",
        "  imgProcess.append(imgArray)\n",
        "\n",
        "#print(f'KEYPOINT SHAPE:{np.asarray(kptProcess).shape}')\n",
        "#print(f'IMAGES SHAPE:{np.array(imgProcess).shape}')"
      ]
    },
    {
      "cell_type": "markdown",
      "metadata": {
        "id": "gGqo16mrbm4A"
      },
      "source": [
        "## **PICKLING THE PREPROCESS IMAGES AND LABELLED FILES**"
      ]
    },
    {
      "cell_type": "code",
      "execution_count": null,
      "metadata": {
        "colab": {
          "base_uri": "https://localhost:8080/"
        },
        "id": "Bky0BC8Iqdi_",
        "outputId": "b9500fbc-31ba-497f-fbce-91c7fc4f0f54"
      },
      "outputs": [
        {
          "name": "stdout",
          "output_type": "stream",
          "text": [
            "(2880, 128, 64)\n"
          ]
        }
      ],
      "source": [
        "'''featurefile=open('/content/drive/MyDrive/Colab Notebooks/scoliosis xray Single View/boostnet_labeldata/SmallAugmentFiles/Feature/IMG/Fimg2880_denoise_hist.pickle', 'wb')\n",
        "pickle.dump(imgProcess,featurefile)\n",
        "featurefile.close()\n",
        "'''\n",
        "IMGfile=pickle.load(open('/content/drive/MyDrive/Colab Notebooks/scoliosis xray Single View/boostnet_labeldata/SmallAugmentFiles/Feature/IMG/Fimg2880_denoise_hist.pickle','rb'))\n",
        "imgA=np.asarray(IMGfile)\n",
        "print(imgA.shape)"
      ]
    },
    {
      "cell_type": "code",
      "execution_count": null,
      "metadata": {
        "colab": {
          "base_uri": "https://localhost:8080/"
        },
        "id": "yQUXsVKwIvg2",
        "outputId": "9918ab21-3c73-46f7-f4a4-1cbc30dbad06"
      },
      "outputs": [
        {
          "name": "stdout",
          "output_type": "stream",
          "text": [
            "(2880, 68, 2)\n"
          ]
        }
      ],
      "source": [
        "'''featurefile=open('/content/drive/MyDrive/Colab Notebooks/scoliosis xray Single View/boostnet_labeldata/SmallAugmentFiles/Feature/KEYPOINT/Fkp2800_denoise_hist.pickle', 'wb')\n",
        "pickle.dump(kptProcess, featurefile)\n",
        "featurefile.close()\n",
        "'''\n",
        "KPfile=pickle.load(open('/content/drive/MyDrive/Colab Notebooks/scoliosis xray Single View/boostnet_labeldata/SmallAugmentFiles/Feature/KEYPOINT/Fkp2800_denoise_hist.pickle','rb'))\n",
        "kpA=np.asarray(KPfile)\n",
        "print(kpA.shape)"
      ]
    },
    {
      "cell_type": "code",
      "execution_count": null,
      "metadata": {
        "colab": {
          "base_uri": "https://localhost:8080/",
          "height": 1000
        },
        "id": "pOY6OLta7J5H",
        "outputId": "47952f20-7d17-4321-9eb0-907776613976"
      },
      "outputs": [],
      "source": [
        "plt.figure(figsize=(30,30))\n",
        "i,idx=1,16\n",
        "for num in range(0,16):\n",
        "  #idx=np.random.choice(kpA.shape[0])\n",
        "  plt.subplot(4,4,i)\n",
        "  plt.imshow(imgA[idx])\n",
        "  x,y=kpA[idx][:,0], kpA[idx][:,1]\n",
        "  plt.scatter(x, y, color='red', s=10)\n",
        "  plt.title(idx)\n",
        "  i+=1\n",
        "  idx+=1"
      ]
    },
    {
      "cell_type": "code",
      "execution_count": null,
      "metadata": {
        "colab": {
          "base_uri": "https://localhost:8080/",
          "height": 1000
        },
        "id": "hW42QgPRs20H",
        "outputId": "35658a3a-bb38-4597-e3f3-29093eb65f10"
      },
      "outputs": [],
      "source": [
        "plt.figure(figsize=(30,30))\n",
        "i,idx=1,1\n",
        "for num in range(0,16):\n",
        "  #idx=np.random.choice(kpA.shape[0])\n",
        "  plt.subplot(4,4,i)\n",
        "  plt.imshow(imgA[idx])\n",
        "  x,y=kpA[idx][:,0], kpA[idx][:,1]\n",
        "  plt.scatter(x, y, color='red', s=10)\n",
        "  plt.title(idx)\n",
        "  i+=1\n",
        "  idx+=1"
      ]
    },
    {
      "cell_type": "markdown",
      "metadata": {
        "id": "pxgiVXExb7qA"
      },
      "source": [
        "## **TEST IMAGES AND LABEL FOLDERS**"
      ]
    },
    {
      "cell_type": "code",
      "execution_count": null,
      "metadata": {
        "id": "BbTUJwV_FaaR"
      },
      "outputs": [],
      "source": [
        "TestImgFile='/content/drive/MyDrive/Colab Notebooks/scoliosis xray Single View/boostnet_labeldata/SmallAugmentFiles/Test/IMG/'\n",
        "TestKpFile='/content/drive/MyDrive/Colab Notebooks/scoliosis xray Single View/boostnet_labeldata/SmallAugmentFiles/Test/KEYPOINT/'"
      ]
    },
    {
      "cell_type": "markdown",
      "metadata": {
        "id": "ZSV50ydIcCKB"
      },
      "source": [
        "## **TEST IMAGES PREPROCESSING**"
      ]
    },
    {
      "cell_type": "code",
      "execution_count": null,
      "metadata": {
        "id": "TYH3RhCHE6Cd"
      },
      "outputs": [],
      "source": [
        "def imageProcessing(imgFile):\n",
        "  imgLoad=cv2.imread(imgFile)\n",
        "  #imgGrey=cv2.cvtColor(imgLoad, cv2.COLOR_BGR2GRAY)\n",
        "  #imgHist=cv2.equalizeHist(imgGrey)\n",
        "  #imgNoiseLess= cv2.fastNlMeansDenoising(imgHist, None, 10, 7, 21) \n",
        "  imgNorm=(imgNoiseLess - np.min(imgNoiseLess)) / (np.max(imgNoiseLess) - np.min(imgNoiseLess))\n",
        "  #imgNorm=(imgHist-np.min(imgHist)) / (np.max(imgHist) - np.min(imgHist))\n",
        "  return imgNorm\n",
        "\n",
        "def KeyPointProcess(kpFile):\n",
        "  test = sio.loadmat(kpFile)\n",
        "  keyPoint=list(test.values())[3]\n",
        "  return keyPoint\n"
      ]
    },
    {
      "cell_type": "code",
      "execution_count": null,
      "metadata": {
        "id": "F877-4dRE_fL"
      },
      "outputs": [],
      "source": [
        "#image Preprocessing and Histogram Equalization\n",
        "imgList=os.listdir(TestImgFile)\n",
        "imgProcess=[]\n",
        "kptProcess=[]\n",
        "\n",
        "for img in imgList:\n",
        "  imgFile=TestImgFile+img\n",
        "  kpFile=TestKpFile+img+'.mat'\n",
        "  #Extracting the keypoints\n",
        "  keyPoint=np.asarray(KeyPointProcess(kpFile))\n",
        "  kptProcess.append(keyPoint)\n",
        "  #Extracting the images\n",
        "  imgArray=imageProcessing(imgFile)\n",
        "  imgProcess.append(imgArray)\n",
        "\n",
        "#print(f'KEYPOINT SHAPE:{np.asarray(kptProcess).shape}')\n",
        "#print(f'IMAGES SHAPE:{np.array(imgProcess).shape}')"
      ]
    },
    {
      "cell_type": "code",
      "execution_count": null,
      "metadata": {
        "id": "240WlSBjFI5r"
      },
      "outputs": [],
      "source": [
        "plt.figure(figsize=(30,30))\n",
        "i,idx=1,1\n",
        "for num in range(0,16):\n",
        "  #idx=np.random.choice(kpA.shape[0])\n",
        "  plt.subplot(4,4,i)\n",
        "  plt.imshow(imgA[idx])\n",
        "  x,y=kpA[idx][:,0], kpA[idx][:,1]\n",
        "  plt.scatter(x, y, color='red', s=10)\n",
        "  plt.title(idx)\n",
        "  i+=1\n",
        "  idx+=1"
      ]
    },
    {
      "cell_type": "markdown",
      "metadata": {
        "id": "xI0qSuoqcIzP"
      },
      "source": [
        "## **PICKLING THE TEST IMAGES AND TEST LABELS**"
      ]
    },
    {
      "cell_type": "code",
      "execution_count": null,
      "metadata": {
        "colab": {
          "base_uri": "https://localhost:8080/"
        },
        "id": "JihDaJmTFlpU",
        "outputId": "71dd0dc6-5a95-4ab6-bb20-498f8d87fd54"
      },
      "outputs": [
        {
          "name": "stdout",
          "output_type": "stream",
          "text": [
            "(128, 128, 64)\n"
          ]
        }
      ],
      "source": [
        "'''featurefile=open('/content/drive/MyDrive/Colab Notebooks/scoliosis xray Single View/boostnet_labeldata/SmallAugmentFiles/Feature/IMG/TEST_Fimg128_denoise_hist.pickle', 'wb')\n",
        "pickle.dump(imgProcess,featurefile)\n",
        "featurefile.close()\n",
        "'''\n",
        "IMGfile=pickle.load(open('/content/drive/MyDrive/Colab Notebooks/scoliosis xray Single View/boostnet_labeldata/SmallAugmentFiles/Feature/IMG/TEST_Fimg128_denoise_hist.pickle','rb'))\n",
        "imgA=np.asarray(IMGfile)\n",
        "print(imgA.shape)"
      ]
    },
    {
      "cell_type": "code",
      "execution_count": null,
      "metadata": {
        "colab": {
          "base_uri": "https://localhost:8080/"
        },
        "id": "qgxv5qoGFypl",
        "outputId": "42255cb2-ae87-42d6-a3ff-e0b1915fdbfe"
      },
      "outputs": [
        {
          "name": "stdout",
          "output_type": "stream",
          "text": [
            "(128, 68, 2)\n"
          ]
        }
      ],
      "source": [
        "'''featurefile=open('/content/drive/MyDrive/Colab Notebooks/scoliosis xray Single View/boostnet_labeldata/SmallAugmentFiles/Feature/KEYPOINT/TEST_Fkp128_denoise_hist.pickle', 'wb')\n",
        "pickle.dump(kptProcess, featurefile)\n",
        "featurefile.close()\n",
        "'''\n",
        "KPfile=pickle.load(open('/content/drive/MyDrive/Colab Notebooks/scoliosis xray Single View/boostnet_labeldata/SmallAugmentFiles/Feature/KEYPOINT/TEST_Fkp128_denoise_hist.pickle','rb'))\n",
        "kpA=np.asarray(KPfile)\n",
        "print(kpA.shape)"
      ]
    },
    {
      "cell_type": "code",
      "execution_count": null,
      "metadata": {
        "id": "wixuNAYFGIXP"
      },
      "outputs": [],
      "source": []
    }
  ],
  "metadata": {
    "colab": {
      "machine_shape": "hm",
      "provenance": []
    },
    "gpuClass": "standard",
    "kernelspec": {
      "display_name": "Python 3",
      "name": "python3"
    }
  },
  "nbformat": 4,
  "nbformat_minor": 0
}
