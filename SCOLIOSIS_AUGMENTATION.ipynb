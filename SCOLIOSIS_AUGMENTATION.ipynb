{
  "nbformat": 4,
  "nbformat_minor": 0,
  "metadata": {
    "colab": {
      "provenance": [],
      "machine_shape": "hm"
    },
    "kernelspec": {
      "name": "python3",
      "display_name": "Python 3"
    },
    "gpuClass": "standard"
  },
  "cells": [
    {
      "cell_type": "code",
      "source": [
        "from google.colab import drive\n",
        "drive.mount('/content/drive')"
      ],
      "metadata": {
        "colab": {
          "base_uri": "https://localhost:8080/"
        },
        "id": "FSOEfN5hhGhq",
        "outputId": "891ad8d0-fdd5-4528-8794-4625248d43c9"
      },
      "execution_count": null,
      "outputs": [
        {
          "output_type": "stream",
          "name": "stdout",
          "text": [
            "Drive already mounted at /content/drive; to attempt to forcibly remount, call drive.mount(\"/content/drive\", force_remount=True).\n"
          ]
        }
      ]
    },
    {
      "cell_type": "code",
      "metadata": {
        "id": "pafL7Li0jyXW"
      },
      "source": [
        "import numpy as np\n",
        "import pandas as pd\n",
        "import cv2, os, tensorflow, keras\n",
        "import warnings\n",
        "warnings.filterwarnings(\"ignore\")\n",
        "from tensorflow.keras.preprocessing import image\n",
        "import matplotlib.pyplot as plt\n",
        "from PIL import Image\n",
        "from skimage import color\n",
        "from google.colab.patches import cv2_imshow\n",
        "import albumentations as A\n",
        "from scipy.io import savemat\n",
        "import scipy.io as sio\n",
        "import pickle"
      ],
      "execution_count": null,
      "outputs": []
    },
    {
      "cell_type": "markdown",
      "source": [
        "## **APPLIED AUGMENTATION TECHNIQUES**"
      ],
      "metadata": {
        "id": "6YA3QNK3aHva"
      }
    },
    {
      "cell_type": "code",
      "source": [
        "transform = A.Compose([\n",
        "    A.Resize(224, 224),\n",
        "   #A.RandomBrightnessContrast(p=1)\n",
        "   #A.OneOf([A.HueSaturationValue(p=1), A.RGBShift(p=0.7)], p=1),\n",
        "   #A.Sharpen(alpha=(0.4, 0.5), lightness=(0.8, 1.0), always_apply=True, p=0.7)\n",
        "   #A.MultiplicativeNoise (multiplier=(0.8, 1.1), per_channel=True, elementwise=True, always_apply=True, p=0.1)\n",
        "   #A.InvertImg(0.5)\n",
        "   #A.VerticalFlip(0.5)\n",
        "   ], keypoint_params=A.KeypointParams(format='xy'))"
      ],
      "metadata": {
        "id": "aC0DMKAiaHKp"
      },
      "execution_count": null,
      "outputs": []
    },
    {
      "cell_type": "markdown",
      "source": [
        "## **AUGMENTATION UPON IMAGES AND LABELLED FILES**"
      ],
      "metadata": {
        "id": "wgshxnU5aUEC"
      }
    },
    {
      "cell_type": "code",
      "source": [
        "trainImg='/content/drive/MyDrive/Colab Notebooks/scoliosis xray Single View/boostnet_labeldata/data/training/'\n",
        "traingKP='/content/drive/MyDrive/Colab Notebooks/scoliosis xray Single View/boostnet_labeldata/labels/training/'\n",
        "imgF=os.listdir(trainImg)\n",
        "i=0\n",
        "imgProcess=[]\n",
        "kpProcess=[]\n",
        "for img in imgF:\n",
        "  try:\n",
        "    imgR=cv2.imread(trainImg+img)\n",
        "    test = sio.loadmat(traingKP+img+'.mat')\n",
        "    keyPoint=list(test.values())[3]\n",
        "    transform = A.Compose([A.Resize(128, 64), A.InvertImg(0.5)], keypoint_params=A.KeypointParams(format='xy', remove_invisible=True))\n",
        "    transformed = transform(image=imgR, keypoints=keyPoint)\n",
        "    transformed_image = transformed['image']\n",
        "    transformed_keypoints = transformed['keypoints']\n",
        "    outputIMG='/content/drive/MyDrive/Colab Notebooks/scoliosis xray Single View/boostnet_labeldata/SmallAugmentFiles/Invert/IMG/'+'invert-'+img\n",
        "    outputKP='/content/drive/MyDrive/Colab Notebooks/scoliosis xray Single View/boostnet_labeldata/SmallAugmentFiles/Invert/KEYPOINT/'+'invert-'+img+'.mat'\n",
        "    cv2.imwrite(outputIMG, transformed_image)\n",
        "    keysdic = {\"p2\": transformed_keypoints}\n",
        "    savemat(outputKP, keysdic)\n",
        "  except:\n",
        "    i+=1\n",
        "    continue\n",
        "print(f'Error Images:{i}')"
      ],
      "metadata": {
        "colab": {
          "base_uri": "https://localhost:8080/"
        },
        "id": "nycTjSA38WqQ",
        "outputId": "23ef51dc-cabb-4a1a-a700-beb1d4137c27"
      },
      "execution_count": null,
      "outputs": [
        {
          "output_type": "stream",
          "name": "stdout",
          "text": [
            "[(29.794538361508454, 3.09538737124944), (41.695708712613786, 3.3246753246753245), (30.12743823146944, 6.821316614420063), (41.695708712613786, 7.337214509628303), (30.12743823146944, 7.623824451410658), (41.61248374512354, 8.025078369905955), (30.12743823146944, 11.86565158978952), (40.28088426527958, 12.266905508284818), (30.293888166449936, 13.069413345275414), (40.364109232769835, 13.069413345275414), (30.876462938881666, 16.96730855351545), (40.530559167750326, 17.540528437080162), (30.626788036410925, 18.0564263322884), (40.530559167750326, 18.801612180922525), (29.54486345903771, 22.068965517241377), (38.78283485045514, 23.444693237796685), (28.962288686605984, 23.78862516793551), (38.69960988296489, 25.107030900134347), (27.713914174252277, 28.66099417823556), (37.53446033810143, 30.036721898790862), (26.631989596879066, 30.094043887147336), (37.03511053315995, 31.183161665920284), (24.884265279583875, 35.88356471115092), (36.78543563068921, 37.25929243170622), (24.384915474642394, 37.14464845499328), (36.20286085825748, 37.48858038513211), (23.88556566970091, 41.15718763994626), (35.953185955786736, 41.44379758172862), (24.135240572171654, 42.4755933721451), (35.953185955786736, 42.36094939543215), (23.552665799739923, 47.74921630094044), (35.70351105331599, 47.69189431258397), (23.88556566970091, 48.83833407971339), (35.70351105331599, 48.43708016121809), (24.135240572171654, 54.05463502015226), (36.86866059817945, 53.7680250783699), (24.967490247074124, 55.659650694133454), (37.1183355006502, 54.398566950291084), (25.466840052015606, 61.563815494849976), (39.198959687906374, 60.36005373936408), (25.716514954486346, 62.65293327362293), (39.032509752925876, 61.047917599641735), (27.381014304291288, 68.04120017913121), (40.863459037711316, 66.60815047021943), (27.297789336801042, 69.99014778325123), (40.78023407022107, 67.92655620241827), (28.4629388816645, 75.83699059561128), (43.52665799739922, 74.8051948051948), (28.54616384915475, 77.21271831616659), (44.10923276983095, 77.55665024630542), (27.963589076723018, 83.346171070309), (43.85955786736021, 84.26332288401254), (27.630689206762028, 84.89386475593372), (43.27698309492848, 87.41603224361845), (25.716514954486346, 90.51141961486789), (40.863459037711316, 93.60680698611733), (24.46814044213264, 92.57501119570085), (39.698309492847855, 96.07165248544558), (20.47334200260078, 99.28168383340797), (37.368010403120934, 102.95029108822212), (19.557867360208064, 102.37707120465741), (36.53576072821846, 104.95656068069862), (17.726918075422628, 108.10927004030452), (34.621586475942784, 110.91804746977161), (15.812743823146944, 111.26197939991043), (34.455136540962286, 112.35109717868339), (15.230169050715215, 118.6565158978952), (35.70351105331599, 119.11509180474698)]\n",
            "Error Images:0\n"
          ]
        }
      ]
    },
    {
      "cell_type": "markdown",
      "source": [
        "## **TESTING THE AUGMENTED DATA**"
      ],
      "metadata": {
        "id": "N-tGqoJIacWZ"
      }
    },
    {
      "cell_type": "code",
      "source": [
        "test = sio.loadmat(outputKP)\n",
        "keyPoint=list(test.values())[3]\n",
        "xk=keyPoint[:,0]\n",
        "yk=keyPoint[:,1]"
      ],
      "metadata": {
        "id": "louure7KBhW6"
      },
      "execution_count": null,
      "outputs": []
    },
    {
      "cell_type": "code",
      "source": [
        "plt.figure(figsize=(10,10))\n",
        "imgR=cv2.imread(outputIMG)\n",
        "imgG= cv2.cvtColor(imgR, cv2.COLOR_BGR2GRAY)\n",
        "print(f'IMAGE SHAPE:{imgG.shape}')\n",
        "plt.imshow(imgR)"
      ],
      "metadata": {
        "colab": {
          "base_uri": "https://localhost:8080/",
          "height": 628
        },
        "id": "8xq7NYf1Bn1o",
        "outputId": "f0f92eac-cbea-4c46-e3e9-30b4e07f0a1d"
      },
      "execution_count": null,
      "outputs": [
        {
          "output_type": "stream",
          "name": "stdout",
          "text": [
            "IMAGE SHAPE:(128, 64)\n"
          ]
        },
        {
          "output_type": "execute_result",
          "data": {
            "text/plain": [
              "<matplotlib.image.AxesImage at 0x7f64627c5610>"
            ]
          },
          "metadata": {},
          "execution_count": 28
        },
        {
          "output_type": "display_data",
          "data": {
            "text/plain": [
              "<Figure size 720x720 with 1 Axes>"
            ],
            "image/png": "[encoded data removed]"
          },
          "metadata": {
            "needs_background": "light"
          }
        }
      ]
    },
    {
      "cell_type": "code",
      "source": [
        "from matplotlib import image\n",
        "from matplotlib import pyplot as plt\n",
        "\n",
        "plt.figure(figsize=(17,17))\n",
        "plt.subplot(221)\n",
        "plt.scatter(xk, yk, color=\"green\", s=10)\n",
        "plt.imshow(imgR)"
      ],
      "metadata": {
        "colab": {
          "base_uri": "https://localhost:8080/",
          "height": 487
        },
        "id": "9Y6dJgTCOTgM",
        "outputId": "292e7f1a-012b-413c-99b5-f85f19a8f66e"
      },
      "execution_count": null,
      "outputs": [
        {
          "output_type": "execute_result",
          "data": {
            "text/plain": [
              "<matplotlib.image.AxesImage at 0x7f64627997f0>"
            ]
          },
          "metadata": {},
          "execution_count": 29
        },
        {
          "output_type": "display_data",
          "data": {
            "text/plain": [
              "<Figure size 1224x1224 with 1 Axes>"
            ],
            "image/png": "[encoded data removed]"
          },
          "metadata": {
            "needs_background": "light"
          }
        }
      ]
    },
    {
      "cell_type": "markdown",
      "source": [
        "## **SHIFTING AUGMENTED DATA TO NEW FOLDER**"
      ],
      "metadata": {
        "id": "m0NW1IEnahPj"
      }
    },
    {
      "cell_type": "code",
      "source": [
        "import shutil \n",
        "import os \n",
        "path='/content/drive/MyDrive/Colab Notebooks/scoliosis xray Single View/boostnet_labeldata/SmallAugmentFiles/Mnoise/IMG/'\n",
        "dst='/content/drive/MyDrive/Colab Notebooks/scoliosis xray Single View/boostnet_labeldata/SmallAugmentFiles/ACombFile/IMG/'\n",
        "for file1 in os.listdir(path):\n",
        "  f=path+file1\n",
        "  print(file1)\n",
        "  shutil.copy(f, dst)\n"
      ],
      "metadata": {
        "id": "hsTdNU_DZQjC",
        "colab": {
          "base_uri": "https://localhost:8080/"
        },
        "outputId": "9fc21f25-2a6f-40b0-c5b7-5e14a54d3249"
      },
      "execution_count": null,
      "outputs": [
        {
          "output_type": "stream",
          "name": "stdout",
          "text": [
            "noise-sunhl-1th-10-Jan-2017-240 B AP.jpg\n",
            "noise-sunhl-1th-10-Jan-2017-242 A AP.jpg\n",
            "noise-sunhl-1th-11-Jan-2017-254 P AP.jpg\n",
            "noise-sunhl-1th-11-Jan-2017-255 A AP.jpg\n",
            "noise-sunhl-1th-11-Jan-2017-254 M AP.jpg\n",
            "noise-sunhl-1th-11-Jan-2017-254 O AP.jpg\n",
            "noise-sunhl-1th-11-Jan-2017-254 N AP.jpg\n",
            "noise-sunhl-1th-11-Jan-2017-255 B AP.jpg\n",
            "noise-sunhl-1th-10-Jan-2017-240 A AP.jpg\n",
            "noise-sunhl-1th-10-Jan-2017-243 A AP.jpg\n",
            "noise-sunhl-1th-10-Jan-2017-241 B AP.jpg\n",
            "noise-sunhl-1th-10-Jan-2017-241 C AP.jpg\n",
            "noise-sunhl-1th-10-Jan-2017-241 A AP.jpg\n",
            "noise-sunhl-1th-11-Jan-2017-254 L AP.jpg\n",
            "noise-sunhl-1th-09-Jan-2017-208 B AP.jpg\n",
            "noise-sunhl-1th-09-Jan-2017-206 B AP.jpg\n",
            "noise-sunhl-1th-09-Jan-2017-205 E AP.jpg\n",
            "noise-sunhl-1th-09-Jan-2017-207 B AP.jpg\n",
            "noise-sunhl-1th-09-Jan-2017-206 A AP.jpg\n",
            "noise-sunhl-1th-09-Jan-2017-197 A AP.jpg\n",
            "noise-sunhl-1th-09-Jan-2017-196 C AP.jpg\n",
            "noise-sunhl-1th-09-Jan-2017-196 D AP.jpg\n",
            "noise-sunhl-1th-09-Jan-2017-197 B AP.jpg\n",
            "noise-sunhl-1th-09-Jan-2017-197 C AP.jpg\n",
            "noise-sunhl-1th-09-Jan-2017-196 B AP.jpg\n",
            "noise-sunhl-1th-09-Jan-2017-209 B AP.jpg\n",
            "noise-sunhl-1th-09-Jan-2017-207 A AP.jpg\n",
            "noise-sunhl-1th-09-Jan-2017-196 E AP.jpg\n",
            "noise-sunhl-1th-12-Jan-2017-258 A AP.jpg\n",
            "noise-sunhl-1th-12-Jan-2017-257 A AP.jpg\n",
            "noise-sunhl-1th-12-Jan-2017-256 A AP.jpg\n",
            "noise-sunhl-1th-12-Jan-2017-258 B AP.jpg\n",
            "noise-sunhl-1th-11-Jan-2017-255 D AP.jpg\n",
            "noise-sunhl-1th-11-Jan-2017-255 E AP.jpg\n",
            "noise-sunhl-1th-12-Jan-2017-259 A AP.jpg\n",
            "noise-sunhl-1th-30-Dec-2016-159 C AP.jpg\n",
            "noise-sunhl-1th-30-Dec-2016-161 A AP.jpg\n",
            "noise-sunhl-1th-30-Dec-2016-160 A AP.jpg\n",
            "noise-sunhl-1th-30-Dec-2016-159 A AP.jpg\n",
            "noise-sunhl-1th-30-Dec-2016-158 A AP.jpg\n",
            "noise-sunhl-1th-30-Dec-2016-159 B AP.jpg\n",
            "noise-sunhl-1th-06-Jan-2017-180 A AP.jpg\n",
            "noise-sunhl-1th-06-Jan-2017-178 A AP.jpg\n",
            "noise-sunhl-1th-06-Jan-2017-181 A AP.jpg\n",
            "noise-sunhl-1th-06-Jan-2017-182 C AP.jpg\n",
            "noise-sunhl-1th-06-Jan-2017-178 B AP.jpg\n",
            "noise-sunhl-1th-06-Jan-2017-179 A AP.jpg\n",
            "noise-sunhl-1th-09-Jan-2017-195 B AP.jpg\n",
            "noise-sunhl-1th-05-Jan-2017-173 A AP.jpg\n",
            "noise-sunhl-1th-30-Dec-2016-159 A AP2.jpg\n",
            "noise-sunhl-1th-09-Jan-2017-210 A AP.jpg\n",
            "noise-sunhl-1th-09-Jan-2017-205 D AP.jpg\n",
            "noise-sunhl-1th-06-Jan-2017-182 A AP.jpg\n",
            "noise-sunhl-1th-10-Jan-2017-230 A AP.jpg\n",
            "noise-sunhl-1th-10-Jan-2017-228 C AP.jpg\n",
            "noise-sunhl-1th-10-Jan-2017-228 B AP.jpg\n",
            "noise-sunhl-1th-09-Jan-2017-212 B AP.jpg\n",
            "noise-sunhl-1th-09-Jan-2017-215 B AP.jpg\n",
            "noise-sunhl-1th-09-Jan-2017-214 A AP.jpg\n",
            "noise-sunhl-1th-09-Jan-2017-211 B AP.jpg\n",
            "noise-sunhl-1th-09-Jan-2017-212 A AP.jpg\n",
            "noise-sunhl-1th-09-Jan-2017-214 C AP.jpg\n",
            "noise-sunhl-1th-10-Jan-2017-253 A AP.jpg\n",
            "noise-sunhl-1th-10-Jan-2017-254 B AP.jpg\n",
            "noise-sunhl-1th-10-Jan-2017-254 C AP.jpg\n",
            "noise-sunhl-1th-10-Jan-2017-252 A AP.jpg\n",
            "noise-sunhl-1th-09-Jan-2017-220 A AP.jpg\n",
            "noise-sunhl-1th-10-Jan-2017-221 B AP.jpg\n",
            "noise-sunhl-1th-09-Jan-2017-219 A AP.jpg\n",
            "noise-sunhl-1th-10-Jan-2017-221 A AP.jpg\n",
            "noise-sunhl-1th-09-Jan-2017-219 C AP.jpg\n",
            "noise-sunhl-1th-26-Jul-2016-79 B AP.jpg\n",
            "noise-sunhl-1th-26-Jul-2016-79 C AP.jpg\n",
            "noise-sunhl-1th-26-Jul-2016-78 B AP.jpg\n",
            "noise-sunhl-1th-09-Jan-2017-212 C AP.jpg\n",
            "noise-sunhl-1th-11-Jan-2017-255 C AP.jpg\n",
            "noise-sunhl-1th-25-Jan-2017-279 A AP.jpg\n",
            "noise-sunhl-1th-12-Jan-2017-272 A AP.jpg\n",
            "noise-sunhl-1th-10-Jan-2017-250 D AP.jpg\n",
            "noise-sunhl-1th-10-Jan-2017-248 C AP.jpg\n",
            "noise-sunhl-1th-10-Jan-2017-250 E AP.jpg\n",
            "noise-sunhl-1th-10-Jan-2017-251 A AP.jpg\n",
            "noise-sunhl-1th-10-Jan-2017-249 A AP.jpg\n",
            "noise-sunhl-1th-10-Jan-2017-228 A AP.jpg\n",
            "noise-sunhl-1th-10-Jan-2017-231 A AP.jpg\n",
            "noise-sunhl-1th-10-Jan-2017-228 D AP.jpg\n",
            "noise-sunhl-1th-26-Jul-2016-76 C AP.jpg\n",
            "noise-sunhl-1th-26-Jul-2016-79 A AP.jpg\n",
            "noise-sunhl-1th-26-Jul-2016-77 D AP.jpg\n",
            "noise-sunhl-1th-26-Jul-2016-78 A AP.jpg\n",
            "noise-sunhl-1th-21-Nov-2016-136 A AP.jpg\n",
            "noise-sunhl-1th-21-Nov-2016-135 A AP.jpg\n",
            "noise-sunhl-1th-21-Nov-2016-137 B AP.jpg\n",
            "noise-sunhl-1th-21-Nov-2016-136 B AP.jpg\n",
            "noise-sunhl-1th-21-Nov-2016-137 C AP.jpg\n",
            "noise-sunhl-1th-21-Nov-2016-137 A AP.jpg\n",
            "noise-sunhl-1th-21-Nov-2016-134 C AP.jpg\n",
            "noise-sunhl-1th-10-Jan-2017-252 B AP.jpg\n",
            "noise-sunhl-1th-10-Jan-2017-253 B AP.jpg\n",
            "noise-sunhl-1th-10-Jan-2017-254 A AP.jpg\n",
            "noise-sunhl-1th-10-Jan-2017-250 C AP.jpg\n",
            "noise-sunhl-1th-06-Jan-2017-190 A AP.jpg\n",
            "noise-sunhl-1th-06-Jan-2017-187 A AP.jpg\n",
            "noise-sunhl-1th-06-Jan-2017-192 A AP.jpg\n",
            "noise-sunhl-1th-06-Jan-2017-184 A AP.jpg\n",
            "noise-sunhl-1th-06-Jan-2017-188 B AP.jpg\n",
            "noise-sunhl-1th-06-Jan-2017-191 A AP.jpg\n",
            "noise-sunhl-1th-06-Jan-2017-189 A AP.jpg\n",
            "noise-sunhl-1th-10-Jan-2017-221 C AP.jpg\n",
            "noise-sunhl-1th-09-Jan-2017-219 B AP.jpg\n",
            "noise-sunhl-1th-06-Jan-2017-176 B AP.jpg\n",
            "noise-sunhl-1th-06-Jan-2017-177 A AP.jpg\n",
            "noise-sunhl-1th-06-Jan-2017-177 C AP.jpg\n",
            "noise-sunhl-1th-05-Jan-2017-176 A AP.jpg\n",
            "noise-sunhl-1th-05-Jan-2017-174 A AP.jpg\n",
            "noise-sunhl-1th-06-Jan-2017-177 B AP.jpg\n",
            "noise-sunhl-1th-05-Jan-2017-175 A AP.jpg\n",
            "noise-sunhl-1th-22-Nov-2016-143 A AP.jpg\n",
            "noise-sunhl-1th-22-Nov-2016-141 B AP.jpg\n",
            "noise-sunhl-1th-26-Jul-2016-89 B AP.jpg\n",
            "noise-sunhl-1th-26-Jul-2016-80 A AP.jpg\n",
            "noise-sunhl-1th-26-Jul-2016-85 A AP.jpg\n",
            "noise-sunhl-1th-26-Jul-2016-88 B AP.jpg\n",
            "noise-sunhl-1th-26-Jul-2016-88 A AP.jpg\n",
            "noise-sunhl-1th-26-Jul-2016-86 A AP.jpg\n",
            "noise-sunhl-1th-26-Jul-2016-82 A AP.jpg\n",
            "noise-sunhl-1th-26-Jul-2016-81 A AP.jpg\n",
            "noise-sunhl-1th-22-Nov-2016-142 A AP (2).jpg\n",
            "noise-sunhl-1th-22-Nov-2016-142 A AP.jpg\n",
            "noise-sunhl-1th-22-Nov-2016-141 A AP.jpg\n",
            "noise-sunhl-1th-22-Nov-2016-141 E AP.jpg\n",
            "noise-sunhl-1th-22-Nov-2016-141 D AP.jpg\n",
            "noise-sunhl-1th-26-Jul-2016-89 C AP.jpg\n",
            "noise-sunhl-1th-26-Jul-2016-89 D AP.jpg\n",
            "noise-sunhl-1th-26-Jul-2016-90 A AP.jpg\n",
            "noise-sunhl-1th-26-Jul-2016-91 B AP.jpg\n",
            "noise-sunhl-1th-26-Jul-2016-91 A AP.jpg\n",
            "noise-sunhl-1th-26-Jul-2016-90 B AP.jpg\n",
            "noise-sunhl-1th-10-Jan-2017-238 B AP.jpg\n",
            "noise-sunhl-1th-10-Jan-2017-239 B AP.jpg\n",
            "noise-sunhl-1th-10-Jan-2017-238 C AP.jpg\n",
            "noise-sunhl-1th-10-Jan-2017-238 D AP.jpg\n",
            "noise-sunhl-1th-10-Jan-2017-238 A AP.jpg\n",
            "noise-sunhl-1th-10-Jan-2017-239 C AP.jpg\n",
            "noise-sunhl-1th-10-Jan-2017-246 A AP.jpg\n",
            "noise-sunhl-1th-10-Jan-2017-243 C AP.jpg\n",
            "noise-sunhl-1th-10-Jan-2017-243 B AP.jpg\n",
            "noise-sunhl-1th-10-Jan-2017-244 B AP.jpg\n",
            "noise-sunhl-1th-10-Jan-2017-247 A AP.jpg\n",
            "noise-sunhl-1th-10-Jan-2017-248 A AP.jpg\n",
            "noise-sunhl-1th-10-Jan-2017-244 A AP.jpg\n",
            "noise-sunhl-1th-12-Jan-2017-267 A AP.jpg\n",
            "noise-sunhl-1th-12-Jan-2017-266 A AP.jpg\n",
            "noise-sunhl-1th-21-Nov-2016-134 B AP.jpg\n",
            "noise-sunhl-1th-26-Jul-2016-66 B AP.jpg\n",
            "noise-sunhl-1th-26-Jul-2016-67 A AP.jpg\n",
            "noise-sunhl-1th-24-Jul-2016-38 C AP.jpg\n",
            "noise-sunhl-1th-24-Jul-2016-37 A AP.jpg\n",
            "noise-sunhl-1th-24-Jul-2016-36 A AP.jpg\n",
            "noise-sunhl-1th-24-Jul-2016-33 A AP.jpg\n",
            "noise-sunhl-1th-24-Jul-2016-35 B AP.jpg\n",
            "noise-sunhl-1th-24-Jul-2016-35 C AP.jpg\n",
            "noise-sunhl-1th-24-Jul-2016-34 A AP.jpg\n",
            "noise-sunhl-1th-24-Jul-2016-35 E AP.jpg\n",
            "noise-sunhl-1th-24-Jul-2016-35 D AP.jpg\n",
            "noise-sunhl-1th-24-Jul-2016-35 A AP.jpg\n",
            "noise-sunhl-1th-12-Jan-2017-261 A AP.jpg\n",
            "noise-sunhl-1th-12-Jan-2017-261 B AP.jpg\n",
            "noise-sunhl-1th-12-Jan-2017-262 A AP.jpg\n",
            "noise-sunhl-1th-25-Jul-2016-63 C AP.jpg\n",
            "noise-sunhl-1th-25-Jul-2016-66 A AP.jpg\n",
            "noise-sunhl-1th-25-Jul-2016-63 B AP.jpg\n",
            "noise-sunhl-1th-25-Jul-2016-65 A AP.jpg\n",
            "noise-sunhl-1th-25-Jul-2016-64 A AP.jpg\n",
            "noise-sunhl-1th-24-Jul-2016-38 B AP.jpg\n",
            "noise-sunhl-1th-24-Jul-2016-37 B AP.jpg\n",
            "noise-sunhl-1th-24-Jul-2016-37 C AP.jpg\n",
            "noise-sunhl-1th-24-Jul-2016-38 A AP.jpg\n",
            "noise-sunhl-1th-25-Jan-2017-279 B AP.jpg\n",
            "noise-sunhl-1th-25-Jan-2017-281 A AP.jpg\n",
            "noise-sunhl-1th-25-Jan-2017-281 D AP.jpg\n",
            "noise-sunhl-1th-25-Jan-2017-279 C AP.jpg\n",
            "noise-sunhl-1th-12-Jan-2017-262 E AP.jpg\n",
            "noise-sunhl-1th-12-Jan-2017-262 D AP.jpg\n",
            "noise-sunhl-1th-12-Jan-2017-264 A AP.jpg\n",
            "noise-sunhl-1th-12-Jan-2017-267 B AP.jpg\n",
            "noise-sunhl-1th-12-Jan-2017-263 A AP.jpg\n",
            "noise-sunhl-1th-12-Jan-2017-259 C AP.jpg\n",
            "noise-sunhl-1th-12-Jan-2017-259 B AP.jpg\n",
            "noise-sunhl-1th-12-Jan-2017-260 A AP.jpg\n",
            "noise-sunhl-1th-25-Jan-2017-281 B AP.jpg\n",
            "noise-sunhl-1th-25-Jan-2017-280 A AP.jpg\n",
            "noise-sunhl-1th-25-Jan-2017-281 C AP.jpg\n",
            "noise-sunhl-1th-26-Jul-2016-89 A AP.jpg\n",
            "noise-sunhl-1th-20-Jul-2016-10 B AP.jpg\n",
            "noise-sunhl-1th-20-Jul-2016-13 A AP.jpg\n",
            "noise-sunhl-1th-20-Jul-2016-12 A AP.jpg\n",
            "noise-sunhl-1th-20-Jul-2016-10 A AP.jpg\n",
            "noise-sunhl-1th-09-Jan-2017-200 A AP.jpg\n",
            "noise-sunhl-1th-09-Jan-2017-197 D AP.jpg\n",
            "noise-sunhl-1th-09-Jan-2017-199 A AP.jpg\n",
            "noise-sunhl-1th-09-Jan-2017-199 B AP.jpg\n",
            "noise-sunhl-1th-09-Jan-2017-199 C AP.jpg\n",
            "noise-sunhl-1th-09-Jan-2017-194 C AP.jpg\n",
            "noise-sunhl-1th-10-Jan-2017-239 D AP.jpg\n",
            "noise-sunhl-1th-09-Jan-2017-205 B AP.jpg\n",
            "noise-sunhl-1th-09-Jan-2017-204 A AP.jpg\n",
            "noise-sunhl-1th-09-Jan-2017-202 C AP.jpg\n",
            "noise-sunhl-1th-09-Jan-2017-205 A AP.jpg\n",
            "noise-sunhl-1th-09-Jan-2017-202 B AP.jpg\n",
            "noise-sunhl-1th-09-Jan-2017-205 C AP.jpg\n",
            "noise-sunhl-1th-10-Jan-2017-222 A AP.jpg\n",
            "noise-sunhl-1th-10-Jan-2017-227 B AP.jpg\n",
            "noise-sunhl-1th-10-Jan-2017-222 B AP.jpg\n",
            "noise-sunhl-1th-10-Jan-2017-227 D AP.jpg\n",
            "noise-sunhl-1th-10-Jan-2017-224 A AP.jpg\n",
            "noise-sunhl-1th-09-Jan-2017-194 D AP.jpg\n",
            "noise-sunhl-1th-09-Jan-2017-194 A AP.jpg\n",
            "noise-sunhl-1th-09-Jan-2017-192 B AP.jpg\n",
            "noise-sunhl-1th-09-Jan-2017-195 A AP.jpg\n",
            "noise-sunhl-1th-09-Jan-2017-193 A AP.jpg\n",
            "noise-sunhl-1th-10-Jan-2017-227 A AP.jpg\n",
            "noise-sunhl-1th-12-Jan-2017-262 C AP.jpg\n",
            "noise-sunhl-1th-19-Jan-2017-275 C AP.jpg\n",
            "noise-sunhl-1th-10-Jan-2017-227 E AP.jpg\n",
            "noise-sunhl-1th-12-Jan-2017-271 C AP.jpg\n",
            "noise-sunhl-1th-12-Jan-2017-268 A AP.jpg\n",
            "noise-sunhl-1th-12-Jan-2017-270 A AP.jpg\n",
            "noise-sunhl-1th-20-Jan-2017-275 F AP.jpg\n",
            "noise-sunhl-1th-23-Jan-2017-276 B AP.jpg\n",
            "noise-sunhl-1th-20-Jan-2017-275 G AP.jpg\n",
            "noise-sunhl-1th-11-Jan-2017-254 E AP.jpg\n",
            "noise-sunhl-1th-11-Jan-2017-254 J AP.jpg\n",
            "noise-sunhl-1th-20-Jan-2017-275 E AP.jpg\n",
            "noise-sunhl-1th-20-Jan-2017-275 D AP.jpg\n",
            "noise-sunhl-1th-23-Jan-2017-276 A AP.jpg\n",
            "noise-sunhl-1th-20-Jan-2017-275 H AP.jpg\n",
            "noise-sunhl-1th-11-Jan-2017-254 H AP.jpg\n",
            "noise-sunhl-1th-11-Jan-2017-254 I AP.jpg\n",
            "noise-sunhl-1th-11-Jan-2017-254 K AP.jpg\n",
            "noise-sunhl-1th-11-Jan-2017-254 G AP.jpg\n",
            "noise-sunhl-1th-12-Jan-2017-269 C AP.jpg\n",
            "noise-sunhl-1th-12-Jan-2017-271 B AP.jpg\n",
            "noise-sunhl-1th-12-Jan-2017-269 B AP.jpg\n",
            "noise-sunhl-1th-12-Jan-2017-269 A AP.jpg\n",
            "noise-sunhl-1th-19-Jan-2017-274 B AP.jpg\n",
            "noise-sunhl-1th-16-Jan-2017-274 A AP.jpg\n",
            "noise-sunhl-1th-13-Jan-2017-273 B AP.jpg\n",
            "noise-sunhl-1th-19-Jan-2017-275 A AP.jpg\n",
            "noise-sunhl-1th-13-Jan-2017-273 A AP.jpg\n",
            "noise-sunhl-1th-20-Jul-2016-1 A AP.jpg\n",
            "noise-sunhl-1th-20-Jul-2016-11 B AP.jpg\n",
            "noise-sunhl-1th-20-Jul-2016-11 A AP.jpg\n",
            "noise-sunhl-1th-21-Jul-2016-22 A AP.jpg\n",
            "noise-sunhl-1th-21-Jul-2016-21 A AP.jpg\n",
            "noise-sunhl-1th-21-Jul-2016-17 A AP.jpg\n",
            "noise-sunhl-1th-21-Jul-2016-15 E AP.jpg\n",
            "noise-sunhl-1th-21-Jul-2016-20 A AP.jpg\n",
            "noise-sunhl-1th-20-Jul-2016-20 D AP.jpg\n",
            "noise-sunhl-1th-21-Jul-2016-20 F AP.jpg\n",
            "noise-sunhl-1th-20-Jul-2016-coronal9.jpg\n",
            "noise-sunhl-1th-03-Jan-2017-163 B AP.jpg\n",
            "noise-sunhl-1th-03-Jan-2017-165 A AP.jpg\n",
            "noise-sunhl-1th-03-Jan-2017-164 A AP.jpg\n",
            "noise-sunhl-1th-03-Jan-2017-163 A AP.jpg\n",
            "noise-sunhl-1th-04-Jan-2017-165 C AP.jpg\n",
            "noise-sunhl-1th-25-Jul-2016-51 B AP.jpg\n",
            "noise-sunhl-1th-25-Jul-2016-52 B AP.jpg\n",
            "noise-sunhl-1th-25-Jul-2016-52 C AP.jpg\n",
            "noise-sunhl-1th-25-Jul-2016-50 B AP.jpg\n",
            "noise-sunhl-1th-25-Jul-2016-50 A AP.jpg\n",
            "noise-sunhl-1th-21-Jul-2016-25 A AP.jpg\n",
            "noise-sunhl-1th-21-Jul-2016-26 A AP.jpg\n",
            "noise-sunhl-1th-21-Jul-2016-24 A AP.jpg\n",
            "noise-sunhl-1th-21-Jul-2016-24 B AP.jpg\n",
            "noise-sunhl-1th-25-Jul-2016-57 C AP.jpg\n",
            "noise-sunhl-1th-25-Jul-2016-57 A AP.jpg\n",
            "noise-sunhl-1th-25-Jul-2016-58 A AP.jpg\n",
            "noise-sunhl-1th-25-Jul-2016-59 B AP.jpg\n",
            "noise-sunhl-1th-25-Jul-2016-57 B AP.jpg\n",
            "noise-sunhl-1th-21-Nov-2016-138 D AP2.jpg\n",
            "noise-sunhl-1th-21-Nov-2016-139 A AP.jpg\n",
            "noise-sunhl-1th-21-Nov-2016-138 C AP.jpg\n",
            "noise-sunhl-1th-21-Nov-2016-138 D AP.jpg\n",
            "noise-sunhl-1th-21-Nov-2016-138 A AP.jpg\n",
            "noise-sunhl-1th-21-Nov-2016-137 D AP.jpg\n",
            "noise-sunhl-1th-22-Nov-2016-154 A AP.jpg\n",
            "noise-sunhl-1th-21-Nov-2016-140 C AP.jpg\n",
            "noise-sunhl-1th-21-Nov-2016-140 A AP.jpg\n",
            "noise-sunhl-1th-21-Nov-2016-132 D AP.jpg\n",
            "noise-sunhl-1th-26-Jul-2016-75 B AP.jpg\n",
            "noise-sunhl-1th-26-Jul-2016-74 A AP.jpg\n",
            "noise-sunhl-1th-25-Jul-2016-63 A AP.jpg\n",
            "noise-sunhl-1th-25-Jul-2016-60 D AP.jpg\n",
            "noise-sunhl-1th-21-Nov-2016-132 E AP.jpg\n",
            "noise-sunhl-1th-21-Nov-2016-133 B AP.jpg\n",
            "noise-sunhl-1th-21-Nov-2016-132 A AP.jpg\n",
            "noise-sunhl-1th-02-Jan-2017-162 A AP.jpg\n",
            "noise-sunhl-1th-21-Nov-2016-133 A AP.jpg\n",
            "noise-sunhl-1th-21-Nov-2016-139 C AP.jpg\n",
            "noise-sunhl-1th-21-Nov-2016-140 B AP.jpg\n",
            "noise-sunhl-1th-21-Nov-2016-132 B AP.jpg\n",
            "noise-sunhl-1th-26-Jul-2016-76 B AP.jpg\n",
            "noise-sunhl-1th-26-Jul-2016-75 A AP.jpg\n",
            "noise-sunhl-1th-26-Jul-2016-77 B AP.jpg\n",
            "noise-sunhl-1th-26-Jul-2016-77 A AP.jpg\n",
            "noise-sunhl-1th-26-Jul-2016-76 A AP.jpg\n",
            "noise-sunhl-1th-21-Nov-2016-134 A AP.jpg\n",
            "noise-sunhl-1th-21-Nov-2016-131 B AP.jpg\n",
            "noise-sunhl-1th-21-Nov-2016-132 C AP.jpg\n",
            "noise-sunhl-1th-21-Nov-2016-131 A AP.jpg\n",
            "noise-sunhl-1th-25-Jul-2016-62 C AP.jpg\n",
            "noise-sunhl-1th-25-Jul-2016-62 B AP.jpg\n",
            "noise-sunhl-1th-25-Jul-2016-61 A AP.jpg\n",
            "noise-sunhl-1th-25-Jul-2016-60 B AP.jpg\n",
            "noise-sunhl-1th-25-Jul-2016-62 A AP.jpg\n",
            "noise-sunhl-1th-10-Jan-2017-236 A AP.jpg\n",
            "noise-sunhl-1th-10-Jan-2017-254 D AP.jpg\n",
            "noise-sunhl-1th-10-Jan-2017-233 A AP.jpg\n",
            "noise-sunhl-1th-10-Jan-2017-232 A AP.jpg\n",
            "noise-sunhl-1th-10-Jan-2017-231 B AP.jpg\n",
            "noise-sunhl-1th-10-Jan-2017-237 F AP.jpg\n",
            "noise-sunhl-1th-10-Jan-2017-234 B AP.jpg\n",
            "noise-sunhl-1th-10-Jan-2017-232 B AP.jpg\n",
            "noise-sunhl-1th-10-Jan-2017-235 D AP.jpg\n",
            "noise-sunhl-1th-10-Jan-2017-234 A AP.jpg\n",
            "noise-sunhl-1th-09-Jan-2017-215 E AP.jpg\n",
            "noise-sunhl-1th-09-Jan-2017-217 A AP.jpg\n",
            "noise-sunhl-1th-09-Jan-2017-215 C AP.jpg\n",
            "noise-sunhl-1th-09-Jan-2017-215 G AP.jpg\n",
            "noise-sunhl-1th-09-Jan-2017-215 D AP.jpg\n",
            "noise-sunhl-1th-09-Jan-2017-216 A AP.jpg\n",
            "noise-sunhl-1th-09-Jan-2017-216 B AP.jpg\n",
            "noise-sunhl-1th-10-Jan-2017-237 G AP.jpg\n",
            "noise-sunhl-1th-10-Jan-2017-237 E AP.jpg\n",
            "noise-sunhl-1th-10-Jan-2017-237 C AP.jpg\n",
            "noise-sunhl-1th-10-Jan-2017-237 A AP.jpg\n",
            "noise-sunhl-1th-10-Jan-2017-237 B AP.jpg\n",
            "noise-sunhl-1th-10-Jan-2017-237 D AP.jpg\n",
            "noise-sunhl-1th-05-Jan-2017-169 A AP.jpg\n",
            "noise-sunhl-1th-04-Jan-2017-165 B AP.jpg\n",
            "noise-sunhl-1th-02-Jan-2017-162 B AP.jpg\n",
            "noise-sunhl-1th-29-Dec-2016-156 B AP.jpg\n",
            "noise-sunhl-1th-22-Nov-2016-155 A AP.jpg\n",
            "noise-sunhl-1th-22-Nov-2016-149 C AP.jpg\n",
            "noise-sunhl-1th-22-Nov-2016-145 A AP.jpg\n",
            "noise-sunhl-1th-22-Nov-2016-149 A AP.jpg\n",
            "noise-sunhl-1th-22-Nov-2016-151 A AP.jpg\n",
            "noise-sunhl-1th-22-Nov-2016-150 A AP.jpg\n",
            "noise-sunhl-1th-22-Nov-2016-153 C AP.jpg\n",
            "noise-sunhl-1th-22-Nov-2016-153 A AP.jpg\n",
            "noise-sunhl-1th-22-Nov-2016-148 A AP.jpg\n",
            "noise-sunhl-1th-22-Nov-2016-147 A AP.jpg\n",
            "noise-sunhl-1th-22-Nov-2016-146 A AP.jpg\n",
            "noise-sunhl-1th-22-Nov-2016-149 B AP.jpg\n",
            "noise-sunhl-1th-09-Jan-2017-201 A AP.jpg\n",
            "noise-sunhl-1th-09-Jan-2017-197 E AP.jpg\n",
            "noise-sunhl-1th-22-Nov-2016-152 A AP.jpg\n",
            "noise-sunhl-1th-22-Nov-2016-153 B AP.jpg\n",
            "noise-sunhl-1th-22-Nov-2016-141 F AP.jpg\n",
            "noise-sunhl-1th-22-Nov-2016-156 A AP.jpg\n",
            "noise-sunhl-1th-29-Dec-2016-156 E AP.jpg\n",
            "noise-sunhl-1th-29-Dec-2016-156 C AP.jpg\n",
            "noise-sunhl-1th-22-Nov-2016-154 B AP.jpg\n",
            "noise-sunhl-1th-29-Dec-2016-157 A AP.jpg\n",
            "noise-sunhl-1th-05-Jan-2017-167 A AP.jpg\n",
            "noise-sunhl-1th-05-Jan-2017-172 B AP.jpg\n",
            "noise-sunhl-1th-05-Jan-2017-172 A AP.jpg\n",
            "noise-sunhl-1th-05-Jan-2017-171 A AP.jpg\n",
            "noise-sunhl-1th-05-Jan-2017-167 B AP.jpg\n",
            "noise-sunhl-1th-05-Jan-2017-170 A AP.jpg\n",
            "noise-sunhl-1th-25-Jul-2016-53 A AP.jpg\n",
            "noise-sunhl-1th-24-Jul-2016-38 D AP.jpg\n",
            "noise-sunhl-1th-26-Jul-2016-77 C AP.jpg\n",
            "noise-sunhl-1th-25-Jul-2016-60 A AP.jpg\n",
            "noise-sunhl-1th-24-Jul-2016-29 A AP.jpg\n",
            "noise-sunhl-1th-21-Jul-2016-28 A AP.jpg\n",
            "noise-sunhl-1th-24-Jul-2016-31 A AP.jpg\n",
            "noise-sunhl-1th-21-Jul-2016-27 A AP.jpg\n",
            "noise-sunhl-1th-24-Jul-2016-32 A AP.jpg\n",
            "noise-sunhl-1th-24-Jul-2016-30 A AP.jpg\n",
            "noise-sunhl-1th-24-Jul-2016-32 B AP.jpg\n",
            "noise-sunhl-1th-20-Jul-2016-14 A AP.jpg\n",
            "noise-sunhl-1th-21-Nov-2016-138 B AP.jpg\n",
            "noise-sunhl-1th-25-Jul-2016-56 C AP.jpg\n",
            "noise-sunhl-1th-25-Jul-2016-56 A AP.jpg\n",
            "noise-sunhl-1th-26-Jul-2016-72 A AP.jpg\n",
            "noise-sunhl-1th-26-Jul-2016-72 B AP.jpg\n",
            "noise-sunhl-1th-26-Jul-2016-70 C AP.jpg\n",
            "noise-sunhl-1th-26-Jul-2016-69 A AP.jpg\n",
            "noise-sunhl-1th-21-Nov-2016-139 B AP.jpg\n",
            "noise-sunhl-1th-25-Jul-2016-55 B AP.jpg\n",
            "noise-sunhl-1th-25-Jul-2016-53 B AP.jpg\n",
            "noise-sunhl-1th-25-Jul-2016-55 A AP.jpg\n",
            "noise-sunhl-1th-25-Jul-2016-56 D AP.jpg\n",
            "noise-sunhl-1th-25-Jul-2016-56 B AP.jpg\n",
            "noise-sunhl-1th-22-Nov-2016-144 A AP.jpg\n",
            "noise-sunhl-1th-26-Jul-2016-71 A AP.jpg\n",
            "noise-sunhl-1th-26-Jul-2016-70 A AP.jpg\n",
            "noise-sunhl-1th-24-Jul-2016-40 A AP.jpg\n",
            "noise-sunhl-1th-25-Jul-2016-46 C AP.jpg\n",
            "noise-sunhl-1th-25-Jul-2016-48 A AP.jpg\n",
            "noise-sunhl-1th-25-Jul-2016-46 B AP.jpg\n",
            "noise-sunhl-1th-24-Jul-2016-39 B AP.jpg\n",
            "noise-sunhl-1th-25-Jul-2016-44 B AP.jpg\n",
            "noise-sunhl-1th-25-Jul-2016-44 A AP.jpg\n",
            "noise-sunhl-1th-25-Jul-2016-42 A AP.jpg\n",
            "noise-sunhl-1th-24-Jul-2016-39 A AP.jpg\n",
            "noise-sunhl-1th-25-Jul-2016-41 B AP.jpg\n",
            "noise-sunhl-1th-25-Jul-2016-47 A AP.jpg\n",
            "noise-sunhl-1th-25-Jul-2016-47 B AP.jpg\n",
            "noise-sunhl-1th-25-Jul-2016-46 D AP.jpg\n",
            "noise-sunhl-1th-25-Jul-2016-59 A AP.jpg\n",
            "noise-sunhl-1th-20-Jul-2016-8 B AP.jpg\n",
            "noise-sunhl-1th-21-Jul-2016-26 B AP.jpg\n",
            "noise-sunhl-1th-21-Jul-2016-23 A AP.jpg\n",
            "noise-sunhl-1th-25-Jul-2016-52 A AP.jpg\n",
            "noise-sunhl-1th-25-Jul-2016-51 A AP.jpg\n",
            "noise-sunhl-1th-25-Jul-2016-41 A AP.jpg\n",
            "noise-sunhl-1th-25-Jul-2016-15 A AP.jpg\n",
            "noise-sunhl-1th-20-Jul-2016-coronal5.jpg\n",
            "noise-sunhl-1th-20-Jul-2016-coronal2.jpg\n",
            "noise-sunhl-1th-20-Jul-2016-coronal7.jpg\n",
            "noise-sunhl-1th-20-Jul-2016-coronal3.jpg\n",
            "noise-sunhl-1th-20-Jul-2016-coronal4.jpg\n",
            "noise-sunhl-1th-20-Jul-2016-coronal6.jpg\n",
            "noise-sunhl-1th-20-Jul-2016-8 A AP.jpg\n",
            "noise-sunhl-1th-20-Jul-2016-coronal1.jpg\n",
            "noise-sunhl-1th-20-Jul-2016-6 A AP.jpg\n",
            "noise-sunhl-1th-20-Jul-2016-5 A AP.jpg\n",
            "noise-sunhl-1th-20-Jul-2016-7 A AP.jpg\n",
            "noise-sunhl-1th-20-Jul-2016-9 A AP.jpg\n",
            "noise-sunhl-1th-20-Jul-2016-coronal8.jpg\n",
            "noise-sunhl-1th-25-Jul-2016-45 C AP.jpg\n",
            "noise-sunhl-1th-25-Jul-2016-45 A AP.jpg\n",
            "noise-sunhl-1th-25-Jul-2016-15 B AP.jpg\n",
            "noise-sunhl-1th-25-Jul-2016-45 B AP.jpg\n",
            "noise-sunhl-1th-09-Jan-2017-202 A AP.jpg\n",
            "noise-sunhl-1th-09-Jan-2017-218 C AP.jpg\n",
            "noise-sunhl-1th-06-Jan-2017-182 B AP.jpg\n",
            "noise-sunhl-1th-26-Jul-2016-68 A AP.jpg\n",
            "noise-sunhl-1th-20-Jul-2016-coronal17.jpg\n",
            "noise-sunhl-1th-20-Jul-2016-4 A AP.jpg\n",
            "noise-sunhl-1th-20-Jul-2016-16 B AP.jpg\n",
            "noise-sunhl-1th-20-Jul-2016-2 A AP.jpg\n",
            "noise-sunhl-1th-20-Jul-2016-16 A AP.jpg\n",
            "noise-sunhl-1th-20-Jul-2016-19 B AP.jpg\n",
            "noise-sunhl-1th-20-Jul-2016-19 A AP.jpg\n",
            "noise-sunhl-1th-20-Jul-2016-18 A AP.jpg\n",
            "noise-sunhl-1th-20-Jul-2016-16 C AP.jpg\n",
            "noise-sunhl-1th-24-Jul-2016-28 B AP.jpg\n",
            "noise-sunhl-1th-20-Jul-2016-20 B AP.jpg\n",
            "noise-sunhl-1th-20-Jul-2016-3 B AP.jpg\n",
            "noise-sunhl-1th-20-Jul-2016-3 A AP.jpg\n",
            "noise-sunhl-1th-20-Jul-2016-20 C AP.jpg\n",
            "noise-sunhl-1th-20-Jul-2016-2 B AP.jpg\n",
            "noise-sunhl-1th-20-Jul-2016-coronal11.jpg\n",
            "noise-sunhl-1th-20-Jul-2016-coronal13.jpg\n",
            "noise-sunhl-1th-20-Jul-2016-coronal16.jpg\n",
            "noise-sunhl-1th-20-Jul-2016-coronal12.jpg\n",
            "noise-sunhl-1th-20-Jul-2016-coronal15.jpg\n",
            "noise-sunhl-1th-20-Jul-2016-coronal10.jpg\n",
            "noise-sunhl-1th-20-Jul-2016-coronal14.jpg\n",
            "noise-sunhl-1th-20-Jul-2016-4 B AP.jpg\n",
            "noise-sunhl-1th-21-Jul-2016-20 E AP.jpg\n",
            "noise-sunhl-1th-21-Jul-2016-23 B AP.jpg\n",
            "noise-sunhl-1th-25-Jul-2016-15 C AP.jpg\n",
            "noise-sunhl-1th-25-Jul-2016-15 D AP.jpg\n",
            "noise-sunhl-1th-25-Jul-2016-46 A AP.jpg\n",
            "noise-sunhl-1th-25-Jul-2016-58 B AP.jpg\n",
            "noise-sunhl-1th-26-Jul-2016-70 B AP.jpg\n",
            "noise-sunhl-1th-09-Jan-2017-194 B AP.jpg\n",
            "noise-sunhl-1th-10-Jan-2017-227 C AP.jpg\n",
            "noise-sunhl-1th-10-Jan-2017-230 B AP.jpg\n",
            "noise-sunhl-1th-10-Jan-2017-239 A AP.jpg\n",
            "noise-sunhl-1th-10-Jan-2017-248 B AP.jpg\n",
            "noise-sunhl-1th-10-Jan-2017-249 B AP.jpg\n",
            "noise-sunhl-1th-11-Jan-2017-254 F AP.jpg\n",
            "noise-sunhl-1th-12-Jan-2017-262 B AP.jpg\n",
            "noise-sunhl-1th-19-Jan-2017-275 B AP.jpg\n"
          ]
        }
      ]
    },
    {
      "cell_type": "markdown",
      "source": [
        "## **CHECKING THE AUGMENTED IMAGES NAME**"
      ],
      "metadata": {
        "id": "9tKbW4ExaoVd"
      }
    },
    {
      "cell_type": "code",
      "source": [
        "ufile=[]\n",
        "for f in file1:\n",
        "  ff=f.split('-')[0]\n",
        "  if ff not in ufile:\n",
        "    ufile.append(ff)\n",
        "\n",
        "print(ufile)"
      ],
      "metadata": {
        "colab": {
          "base_uri": "https://localhost:8080/"
        },
        "id": "wIoQzlihmno4",
        "outputId": "02163cbf-cf58-473f-ea8d-dbf02a2b422a"
      },
      "execution_count": null,
      "outputs": [
        {
          "output_type": "stream",
          "name": "stdout",
          "text": [
            "['bright', 'invert', 'srgb', 'sharp', 'vflip', 'noise']\n"
          ]
        }
      ]
    },
    {
      "cell_type": "markdown",
      "source": [
        "## **CHECKING THE NUMBER OF AUGMENTED FILES PRESENT**"
      ],
      "metadata": {
        "id": "PQdc7nF9avxI"
      }
    },
    {
      "cell_type": "code",
      "source": [
        "img='/content/drive/MyDrive/Colab Notebooks/scoliosis xray Single View/boostnet_labeldata/SmallAugmentFiles/ACombFile/IMG/'\n",
        "file1=os.listdir(img)\n",
        "print(len(file1))"
      ],
      "metadata": {
        "colab": {
          "base_uri": "https://localhost:8080/"
        },
        "id": "R_-vUFjVbfQM",
        "outputId": "c5603e85-1b62-4482-9b7c-46d80c7e0a4b"
      },
      "execution_count": null,
      "outputs": [
        {
          "output_type": "stream",
          "name": "stdout",
          "text": [
            "2880\n"
          ]
        }
      ]
    },
    {
      "cell_type": "markdown",
      "source": [
        "## **DELETING UNWANTED FILE**"
      ],
      "metadata": {
        "id": "0eU73fSOa2ha"
      }
    },
    {
      "cell_type": "code",
      "source": [
        "outputFolder=\"/content/drive/MyDrive/Colab Notebooks/scoliosis xray Single View/boostnet_labeldata/AugmentFiles/ACombFile/KEYPOINT/\"\n",
        "listimg=os.listdir(outputFolder)\n",
        "removeImg=['Mnoise']\n",
        "for img in listimg:\n",
        "  imgN=img.split('-')[0]\n",
        "  if imgN in removeImg:\n",
        "    imgF=outputFolder+img\n",
        "    os.remove(imgF)"
      ],
      "metadata": {
        "id": "BbTUJwV_FaaR"
      },
      "execution_count": null,
      "outputs": []
    },
    {
      "cell_type": "code",
      "source": [
        "outputFolder=\"/content/drive/MyDrive/Colab Notebooks/scoliosis xray Single View/boostnet_labeldata/SmallAugmentFiles/Vflip/IMG/\"\n",
        "listimg=os.listdir(outputFolder)\n",
        "for img in listimg:\n",
        "  imgF=outputFolder+img\n",
        "  os.remove(imgF)"
      ],
      "metadata": {
        "id": "U4AJV2XsaEBy"
      },
      "execution_count": null,
      "outputs": []
    }
  ]
}